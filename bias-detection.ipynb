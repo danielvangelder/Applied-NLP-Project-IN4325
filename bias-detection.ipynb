{
 "cells": [
  {
   "cell_type": "markdown",
   "id": "another-system",
   "metadata": {},
   "source": [
    "# Data Loading/Prep"
   ]
  },
  {
   "cell_type": "code",
   "execution_count": 1,
   "id": "divine-parent",
   "metadata": {},
   "outputs": [],
   "source": [
    "import numpy as np\n",
    "import pandas as pd"
   ]
  },
  {
   "cell_type": "code",
   "execution_count": 2,
   "id": "curious-character",
   "metadata": {},
   "outputs": [],
   "source": [
    "TEST_BODIES_PATH = \"data/fnc-1/competition_test_bodies.csv\"\n",
    "TEST_STANCES_PATH = \"data/fnc-1/competition_test_stances.csv\"\n",
    "\n",
    "bodies = pd.read_csv(TEST_BODIES_PATH, names=['Body ID', 'articleBody'], header=0)\n",
    "stances = pd.read_csv(TEST_STANCES_PATH, names=['Headline', 'Body ID', 'Stance'], header=0)\n",
    "stance_idx = {}\n",
    "for headline in stances['Headline'].values:\n",
    "    if headline not in stance_idx.keys():\n",
    "        stance_idx[headline] = len(stance_idx.keys())\n",
    "stances['Head ID'] = [stance_idx[head] for head in stances['Headline'].values]\n",
    "# TODO: load predictions by ALBERT"
   ]
  },
  {
   "cell_type": "code",
   "execution_count": 3,
   "id": "significant-professor",
   "metadata": {},
   "outputs": [
    {
     "data": {
      "text/html": [
       "<div>\n",
       "<style scoped>\n",
       "    .dataframe tbody tr th:only-of-type {\n",
       "        vertical-align: middle;\n",
       "    }\n",
       "\n",
       "    .dataframe tbody tr th {\n",
       "        vertical-align: top;\n",
       "    }\n",
       "\n",
       "    .dataframe thead th {\n",
       "        text-align: right;\n",
       "    }\n",
       "</style>\n",
       "<table border=\"1\" class=\"dataframe\">\n",
       "  <thead>\n",
       "    <tr style=\"text-align: right;\">\n",
       "      <th></th>\n",
       "      <th>Body ID</th>\n",
       "      <th>articleBody</th>\n",
       "      <th>Headline</th>\n",
       "      <th>Stance</th>\n",
       "      <th>Head ID</th>\n",
       "    </tr>\n",
       "  </thead>\n",
       "  <tbody>\n",
       "    <tr>\n",
       "      <th>21458</th>\n",
       "      <td>2243</td>\n",
       "      <td>Israel's Army Radio substantiated earlier clai...</td>\n",
       "      <td>Israeli right welcomes Sisi's offer to a Pales...</td>\n",
       "      <td>agree</td>\n",
       "      <td>664</td>\n",
       "    </tr>\n",
       "    <tr>\n",
       "      <th>16267</th>\n",
       "      <td>1782</td>\n",
       "      <td>POLICE are investigating claims a doctor took ...</td>\n",
       "      <td>Joan Rivers' 'selfie' doctor 'DENIES performin...</td>\n",
       "      <td>discuss</td>\n",
       "      <td>336</td>\n",
       "    </tr>\n",
       "    <tr>\n",
       "      <th>5772</th>\n",
       "      <td>765</td>\n",
       "      <td>As traditions go this may be the most unbeliev...</td>\n",
       "      <td>President of Argentina adopts Jewish boy to st...</td>\n",
       "      <td>agree</td>\n",
       "      <td>358</td>\n",
       "    </tr>\n",
       "    <tr>\n",
       "      <th>4493</th>\n",
       "      <td>579</td>\n",
       "      <td>The 80-year-old and bride-to-be Afton Elaine B...</td>\n",
       "      <td>Report: HP to split into two companies, one fo...</td>\n",
       "      <td>unrelated</td>\n",
       "      <td>448</td>\n",
       "    </tr>\n",
       "    <tr>\n",
       "      <th>9228</th>\n",
       "      <td>1158</td>\n",
       "      <td>Microsoft Corp. is in serious discussions to b...</td>\n",
       "      <td>Microsoft Near Deal to Buy Minecraft Maker Mojang</td>\n",
       "      <td>agree</td>\n",
       "      <td>210</td>\n",
       "    </tr>\n",
       "  </tbody>\n",
       "</table>\n",
       "</div>"
      ],
      "text/plain": [
       "       Body ID                                        articleBody  \\\n",
       "21458     2243  Israel's Army Radio substantiated earlier clai...   \n",
       "16267     1782  POLICE are investigating claims a doctor took ...   \n",
       "5772       765  As traditions go this may be the most unbeliev...   \n",
       "4493       579  The 80-year-old and bride-to-be Afton Elaine B...   \n",
       "9228      1158  Microsoft Corp. is in serious discussions to b...   \n",
       "\n",
       "                                                Headline     Stance  Head ID  \n",
       "21458  Israeli right welcomes Sisi's offer to a Pales...      agree      664  \n",
       "16267  Joan Rivers' 'selfie' doctor 'DENIES performin...    discuss      336  \n",
       "5772   President of Argentina adopts Jewish boy to st...      agree      358  \n",
       "4493   Report: HP to split into two companies, one fo...  unrelated      448  \n",
       "9228   Microsoft Near Deal to Buy Minecraft Maker Mojang      agree      210  "
      ]
     },
     "metadata": {},
     "output_type": "display_data"
    },
    {
     "name": "stdout",
     "output_type": "stream",
     "text": [
      "(25413, 5)\n"
     ]
    }
   ],
   "source": [
    "df = pd.merge(bodies, stances, on='Body ID')\n",
    "# TODO: merge predictions by ALBERT\n",
    "display(df.sample(n=5))\n",
    "print(df.shape)"
   ]
  },
  {
   "cell_type": "code",
   "execution_count": 4,
   "id": "quantitative-omaha",
   "metadata": {},
   "outputs": [
    {
     "name": "stderr",
     "output_type": "stream",
     "text": [
      "<ipython-input-4-763820ab849b>:4: SettingWithCopyWarning: \n",
      "A value is trying to be set on a copy of a slice from a DataFrame.\n",
      "Try using .loc[row_indexer,col_indexer] = value instead\n",
      "\n",
      "See the caveats in the documentation: https://pandas.pydata.org/pandas-docs/stable/user_guide/indexing.html#returning-a-view-versus-a-copy\n",
      "  df_rel['Predictions'] = df_rel.loc[:,'Stance'].copy()\n"
     ]
    },
    {
     "data": {
      "text/html": [
       "<div>\n",
       "<style scoped>\n",
       "    .dataframe tbody tr th:only-of-type {\n",
       "        vertical-align: middle;\n",
       "    }\n",
       "\n",
       "    .dataframe tbody tr th {\n",
       "        vertical-align: top;\n",
       "    }\n",
       "\n",
       "    .dataframe thead th {\n",
       "        text-align: right;\n",
       "    }\n",
       "</style>\n",
       "<table border=\"1\" class=\"dataframe\">\n",
       "  <thead>\n",
       "    <tr style=\"text-align: right;\">\n",
       "      <th></th>\n",
       "      <th>Body ID</th>\n",
       "      <th>articleBody</th>\n",
       "      <th>Headline</th>\n",
       "      <th>Stance</th>\n",
       "      <th>Head ID</th>\n",
       "      <th>Predictions</th>\n",
       "    </tr>\n",
       "  </thead>\n",
       "  <tbody>\n",
       "    <tr>\n",
       "      <th>15286</th>\n",
       "      <td>1703</td>\n",
       "      <td>A 19-year-old woman in Poland woke up during b...</td>\n",
       "      <td>Teenager wakes up while undergoing BRAIN SURGE...</td>\n",
       "      <td>agree</td>\n",
       "      <td>199</td>\n",
       "      <td>agree</td>\n",
       "    </tr>\n",
       "    <tr>\n",
       "      <th>11927</th>\n",
       "      <td>1391</td>\n",
       "      <td>The Islamic State of Syria and Iraq has report...</td>\n",
       "      <td>ISIS Beheads American Journalist Steven Sotlof...</td>\n",
       "      <td>discuss</td>\n",
       "      <td>554</td>\n",
       "      <td>discuss</td>\n",
       "    </tr>\n",
       "    <tr>\n",
       "      <th>9107</th>\n",
       "      <td>1135</td>\n",
       "      <td>Claim: Mitt Romney said Michelle Obama should ...</td>\n",
       "      <td>Did Mitt Romney Call Michelle Obama “First Wom...</td>\n",
       "      <td>discuss</td>\n",
       "      <td>831</td>\n",
       "      <td>discuss</td>\n",
       "    </tr>\n",
       "    <tr>\n",
       "      <th>23051</th>\n",
       "      <td>2366</td>\n",
       "      <td>A new video appears to show the execution of S...</td>\n",
       "      <td>Steven Sotloff 'beheaded by Islamic State'</td>\n",
       "      <td>discuss</td>\n",
       "      <td>377</td>\n",
       "      <td>discuss</td>\n",
       "    </tr>\n",
       "    <tr>\n",
       "      <th>6568</th>\n",
       "      <td>876</td>\n",
       "      <td>Even bears can’t stand Justin Bieber’s music.\\...</td>\n",
       "      <td>Justin Bieber saves man from bear attack</td>\n",
       "      <td>agree</td>\n",
       "      <td>376</td>\n",
       "      <td>agree</td>\n",
       "    </tr>\n",
       "  </tbody>\n",
       "</table>\n",
       "</div>"
      ],
      "text/plain": [
       "       Body ID                                        articleBody  \\\n",
       "15286     1703  A 19-year-old woman in Poland woke up during b...   \n",
       "11927     1391  The Islamic State of Syria and Iraq has report...   \n",
       "9107      1135  Claim: Mitt Romney said Michelle Obama should ...   \n",
       "23051     2366  A new video appears to show the execution of S...   \n",
       "6568       876  Even bears can’t stand Justin Bieber’s music.\\...   \n",
       "\n",
       "                                                Headline   Stance  Head ID  \\\n",
       "15286  Teenager wakes up while undergoing BRAIN SURGE...    agree      199   \n",
       "11927  ISIS Beheads American Journalist Steven Sotlof...  discuss      554   \n",
       "9107   Did Mitt Romney Call Michelle Obama “First Wom...  discuss      831   \n",
       "23051         Steven Sotloff 'beheaded by Islamic State'  discuss      377   \n",
       "6568            Justin Bieber saves man from bear attack    agree      376   \n",
       "\n",
       "      Predictions  \n",
       "15286       agree  \n",
       "11927     discuss  \n",
       "9107      discuss  \n",
       "23051     discuss  \n",
       "6568        agree  "
      ]
     },
     "metadata": {},
     "output_type": "display_data"
    },
    {
     "name": "stdout",
     "output_type": "stream",
     "text": [
      "(7064, 6)\n"
     ]
    }
   ],
   "source": [
    "# Filter out only related pairs\n",
    "df_rel = df.loc[df['Stance'] != 'unrelated']\n",
    "# TEMP: set predictions as stances\n",
    "df_rel['Predictions'] = df_rel.loc[:,'Stance'].copy()\n",
    "display(df_rel.sample(n=5))\n",
    "print(df_rel.shape)"
   ]
  },
  {
   "cell_type": "markdown",
   "id": "iraqi-january",
   "metadata": {},
   "source": [
    "# Data Transformation"
   ]
  },
  {
   "cell_type": "code",
   "execution_count": 5,
   "id": "pointed-slide",
   "metadata": {},
   "outputs": [
    {
     "name": "stderr",
     "output_type": "stream",
     "text": [
      "/Users/danielvangelder/miniconda3/lib/python3.8/site-packages/gensim/similarities/__init__.py:15: UserWarning: The gensim.similarities.levenshtein submodule is disabled, because the optional Levenshtein package <https://pypi.org/project/python-Levenshtein/> is unavailable. Install Levenhstein (e.g. `pip install python-Levenshtein`) to suppress this warning.\n",
      "  warnings.warn(msg)\n"
     ]
    }
   ],
   "source": [
    "import nltk\n",
    "import sklearn\n",
    "from nltk.corpus import stopwords\n",
    "from tqdm.notebook import tqdm\n",
    "from nltk.tokenize import word_tokenize\n",
    "from nltk.stem.porter import *\n",
    "import string\n",
    "import gensim\n",
    "import gensim.downloader as api\n",
    "\n",
    "# Download if not installed already\n",
    "# nltk.download('stopwords')"
   ]
  },
  {
   "cell_type": "code",
   "execution_count": 8,
   "id": "velvet-genre",
   "metadata": {
    "scrolled": false
   },
   "outputs": [],
   "source": [
    "# load word2vec model\n",
    "wv = api.load('word2vec-google-news-300')\n",
    "# stopwords\n",
    "sw = stopwords\n",
    "# punctuation\n",
    "punct = set(string.punctuation)\n",
    "# stemmer\n",
    "stemmer = PorterStemmer()"
   ]
  },
  {
   "cell_type": "code",
   "execution_count": 9,
   "id": "suspected-relative",
   "metadata": {},
   "outputs": [
    {
     "data": {
      "application/vnd.jupyter.widget-view+json": {
       "model_id": "1b94b0cd12464cbea326c668959ad62d",
       "version_major": 2,
       "version_minor": 0
      },
      "text/plain": [
       "  0%|          | 0/7064 [00:00<?, ?it/s]"
      ]
     },
     "metadata": {},
     "output_type": "display_data"
    },
    {
     "ename": "KeyError",
     "evalue": "\"Key 'El-Sisi' not present\"",
     "output_type": "error",
     "traceback": [
      "\u001b[0;31m---------------------------------------------------------------------------\u001b[0m",
      "\u001b[0;31mKeyError\u001b[0m                                  Traceback (most recent call last)",
      "\u001b[0;32m<ipython-input-9-ff2cd0f0e95e>\u001b[0m in \u001b[0;36m<module>\u001b[0;34m\u001b[0m\n\u001b[1;32m      7\u001b[0m     \u001b[0mn\u001b[0m \u001b[0;34m=\u001b[0m \u001b[0mlen\u001b[0m\u001b[0;34m(\u001b[0m\u001b[0mtokens\u001b[0m\u001b[0;34m)\u001b[0m\u001b[0;34m\u001b[0m\u001b[0;34m\u001b[0m\u001b[0m\n\u001b[1;32m      8\u001b[0m     \u001b[0;32mfor\u001b[0m \u001b[0mtoken\u001b[0m \u001b[0;32min\u001b[0m \u001b[0mtokens\u001b[0m\u001b[0;34m:\u001b[0m\u001b[0;34m\u001b[0m\u001b[0;34m\u001b[0m\u001b[0m\n\u001b[0;32m----> 9\u001b[0;31m         \u001b[0mvec\u001b[0m \u001b[0;34m=\u001b[0m \u001b[0mwv\u001b[0m\u001b[0;34m[\u001b[0m\u001b[0mtoken\u001b[0m\u001b[0;34m]\u001b[0m\u001b[0;34m\u001b[0m\u001b[0;34m\u001b[0m\u001b[0m\n\u001b[0m\u001b[1;32m     10\u001b[0m         \u001b[0;32mif\u001b[0m \u001b[0mdoc_vec\u001b[0m \u001b[0;34m==\u001b[0m \u001b[0;32mNone\u001b[0m\u001b[0;34m:\u001b[0m\u001b[0;34m\u001b[0m\u001b[0;34m\u001b[0m\u001b[0m\n\u001b[1;32m     11\u001b[0m             \u001b[0mdoc_vec\u001b[0m \u001b[0;34m=\u001b[0m \u001b[0mvec\u001b[0m\u001b[0;34m\u001b[0m\u001b[0;34m\u001b[0m\u001b[0m\n",
      "\u001b[0;32m~/miniconda3/lib/python3.8/site-packages/gensim/models/keyedvectors.py\u001b[0m in \u001b[0;36m__getitem__\u001b[0;34m(self, key_or_keys)\u001b[0m\n\u001b[1;32m    377\u001b[0m         \"\"\"\n\u001b[1;32m    378\u001b[0m         \u001b[0;32mif\u001b[0m \u001b[0misinstance\u001b[0m\u001b[0;34m(\u001b[0m\u001b[0mkey_or_keys\u001b[0m\u001b[0;34m,\u001b[0m \u001b[0mKEY_TYPES\u001b[0m\u001b[0;34m)\u001b[0m\u001b[0;34m:\u001b[0m\u001b[0;34m\u001b[0m\u001b[0;34m\u001b[0m\u001b[0m\n\u001b[0;32m--> 379\u001b[0;31m             \u001b[0;32mreturn\u001b[0m \u001b[0mself\u001b[0m\u001b[0;34m.\u001b[0m\u001b[0mget_vector\u001b[0m\u001b[0;34m(\u001b[0m\u001b[0mkey_or_keys\u001b[0m\u001b[0;34m)\u001b[0m\u001b[0;34m\u001b[0m\u001b[0;34m\u001b[0m\u001b[0m\n\u001b[0m\u001b[1;32m    380\u001b[0m \u001b[0;34m\u001b[0m\u001b[0m\n\u001b[1;32m    381\u001b[0m         \u001b[0;32mreturn\u001b[0m \u001b[0mvstack\u001b[0m\u001b[0;34m(\u001b[0m\u001b[0;34m[\u001b[0m\u001b[0mself\u001b[0m\u001b[0;34m.\u001b[0m\u001b[0mget_vector\u001b[0m\u001b[0;34m(\u001b[0m\u001b[0mkey\u001b[0m\u001b[0;34m)\u001b[0m \u001b[0;32mfor\u001b[0m \u001b[0mkey\u001b[0m \u001b[0;32min\u001b[0m \u001b[0mkey_or_keys\u001b[0m\u001b[0;34m]\u001b[0m\u001b[0;34m)\u001b[0m\u001b[0;34m\u001b[0m\u001b[0;34m\u001b[0m\u001b[0m\n",
      "\u001b[0;32m~/miniconda3/lib/python3.8/site-packages/gensim/models/keyedvectors.py\u001b[0m in \u001b[0;36mget_vector\u001b[0;34m(self, key, norm)\u001b[0m\n\u001b[1;32m    420\u001b[0m \u001b[0;34m\u001b[0m\u001b[0m\n\u001b[1;32m    421\u001b[0m         \"\"\"\n\u001b[0;32m--> 422\u001b[0;31m         \u001b[0mindex\u001b[0m \u001b[0;34m=\u001b[0m \u001b[0mself\u001b[0m\u001b[0;34m.\u001b[0m\u001b[0mget_index\u001b[0m\u001b[0;34m(\u001b[0m\u001b[0mkey\u001b[0m\u001b[0;34m)\u001b[0m\u001b[0;34m\u001b[0m\u001b[0;34m\u001b[0m\u001b[0m\n\u001b[0m\u001b[1;32m    423\u001b[0m         \u001b[0;32mif\u001b[0m \u001b[0mnorm\u001b[0m\u001b[0;34m:\u001b[0m\u001b[0;34m\u001b[0m\u001b[0;34m\u001b[0m\u001b[0m\n\u001b[1;32m    424\u001b[0m             \u001b[0mself\u001b[0m\u001b[0;34m.\u001b[0m\u001b[0mfill_norms\u001b[0m\u001b[0;34m(\u001b[0m\u001b[0;34m)\u001b[0m\u001b[0;34m\u001b[0m\u001b[0;34m\u001b[0m\u001b[0m\n",
      "\u001b[0;32m~/miniconda3/lib/python3.8/site-packages/gensim/models/keyedvectors.py\u001b[0m in \u001b[0;36mget_index\u001b[0;34m(self, key, default)\u001b[0m\n\u001b[1;32m    394\u001b[0m             \u001b[0;32mreturn\u001b[0m \u001b[0mdefault\u001b[0m\u001b[0;34m\u001b[0m\u001b[0;34m\u001b[0m\u001b[0m\n\u001b[1;32m    395\u001b[0m         \u001b[0;32melse\u001b[0m\u001b[0;34m:\u001b[0m\u001b[0;34m\u001b[0m\u001b[0;34m\u001b[0m\u001b[0m\n\u001b[0;32m--> 396\u001b[0;31m             \u001b[0;32mraise\u001b[0m \u001b[0mKeyError\u001b[0m\u001b[0;34m(\u001b[0m\u001b[0;34mf\"Key '{key}' not present\"\u001b[0m\u001b[0;34m)\u001b[0m\u001b[0;34m\u001b[0m\u001b[0;34m\u001b[0m\u001b[0m\n\u001b[0m\u001b[1;32m    397\u001b[0m \u001b[0;34m\u001b[0m\u001b[0m\n\u001b[1;32m    398\u001b[0m     \u001b[0;32mdef\u001b[0m \u001b[0mget_vector\u001b[0m\u001b[0;34m(\u001b[0m\u001b[0mself\u001b[0m\u001b[0;34m,\u001b[0m \u001b[0mkey\u001b[0m\u001b[0;34m,\u001b[0m \u001b[0mnorm\u001b[0m\u001b[0;34m=\u001b[0m\u001b[0;32mFalse\u001b[0m\u001b[0;34m)\u001b[0m\u001b[0;34m:\u001b[0m\u001b[0;34m\u001b[0m\u001b[0;34m\u001b[0m\u001b[0m\n",
      "\u001b[0;31mKeyError\u001b[0m: \"Key 'El-Sisi' not present\""
     ]
    }
   ],
   "source": [
    "embeddings = []\n",
    "\n",
    "for headline in tqdm(df_rel['Headline'].values):\n",
    "    tokens = word_tokenize(headline)\n",
    "    # Doc vec is average of summed word vectors\n",
    "    doc_vec = None\n",
    "    n = len(tokens)\n",
    "    for token in tokens:\n",
    "        vec = wv[token]\n",
    "        if doc_vec == None:\n",
    "            doc_vec = vec\n",
    "        else:\n",
    "            doc_vec += vec\n",
    "    doc_vec /= n\n",
    "    embeddings.append(doc_vec)\n",
    "    \n",
    "        \n",
    "        \n",
    "### Tokenization and lemmatization    \n",
    "#     new_headline = []\n",
    "#     for token in tokens:\n",
    "#         token = token.lower()\n",
    "#         if token not in punct and token not in sw:\n",
    "#             new_headline.append(stemmer.stem(token))\n",
    "#     tokenized_headlines.append(new_headline)\n",
    "# 'th' means tokenized headlines\n",
    "df_rel['embeddings'] = embeddings\n",
    "display(df_rel[['Headline', 'th']].sample(n=5))"
   ]
  }
 ],
 "metadata": {
  "kernelspec": {
   "display_name": "Python 3",
   "language": "python",
   "name": "python3"
  },
  "language_info": {
   "codemirror_mode": {
    "name": "ipython",
    "version": 3
   },
   "file_extension": ".py",
   "mimetype": "text/x-python",
   "name": "python",
   "nbconvert_exporter": "python",
   "pygments_lexer": "ipython3",
   "version": "3.9.2"
  }
 },
 "nbformat": 4,
 "nbformat_minor": 5
}
