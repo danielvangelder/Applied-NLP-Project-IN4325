{
 "cells": [
  {
   "cell_type": "code",
   "execution_count": null,
   "outputs": [],
   "source": [
    "from data_reader import Fnc1Reader\n",
    "import pandas as pd\n",
    "from simpletransformers.classification import ClassificationModel\n",
    "\n",
    "\n",
    "def fold_to_transf_input(fold: pd.DataFrame, reader: Fnc1Reader):\n",
    "    assert fold.columns.tolist() == ['Headline', 'Body ID', 'Stance', 'Label']\n",
    "    result = fold.copy()\n",
    "    result['Body ID'] = result['Body ID'].map(reader.get_body_train)\n",
    "    del result['Stance']\n",
    "    result = result.rename(columns={'Headline': 'text_a', 'Body ID': 'text_b', 'Label': 'labels'})\n",
    "    return result\n",
    "\n",
    "\n",
    "if __name__ == '__main__':\n",
    "    reader = Fnc1Reader('data/fnc-1/')\n",
    "    fold = reader.kfold(10)[0]\n",
    "    data = fold_to_transf_input(fold, reader)\n",
    "\n",
    "\n",
    "    model = ClassificationModel('albert', 'albert-base-v2', num_labels=4, use_cuda=False, args={\n",
    "        'learning_rate':3e-5,\n",
    "        'num_train_epochs': 5,\n",
    "        'reprocess_input_data': True,\n",
    "        'overwrite_output_dir': True,\n",
    "        'process_count': 10,\n",
    "        'train_batch_size': 4,\n",
    "        'eval_batch_size': 4,\n",
    "        'max_seq_length': 512,\n",
    "        'fp16': False,\n",
    "    })\n",
    "\n",
    "    model.train_model(data)"
   ],
   "metadata": {
    "collapsed": false,
    "pycharm": {
     "name": "#%%\n"
    }
   }
  }
 ],
 "metadata": {
  "kernelspec": {
   "display_name": "Python 3",
   "language": "python",
   "name": "python3"
  },
  "language_info": {
   "codemirror_mode": {
    "name": "ipython",
    "version": 2
   },
   "file_extension": ".py",
   "mimetype": "text/x-python",
   "name": "python",
   "nbconvert_exporter": "python",
   "pygments_lexer": "ipython2",
   "version": "2.7.6"
  }
 },
 "nbformat": 4,
 "nbformat_minor": 0
}